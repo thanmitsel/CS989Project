{
 "cells": [
  {
   "cell_type": "code",
   "execution_count": 4,
   "metadata": {},
   "outputs": [],
   "source": [
    "import pandas as pd\n",
    "import numpy as np\n",
    "import time\n",
    "import datetime as dt\n",
    "import matplotlib.pyplot as plt\n",
    "import seaborn as sns\n",
    "import calendar\n",
    "import os"
   ]
  },
  {
   "cell_type": "code",
   "execution_count": 5,
   "metadata": {},
   "outputs": [],
   "source": [
    "# https://chrisalbon.com/python/data_visualization/matplotlib_grouped_bar_plot/"
   ]
  },
  {
   "cell_type": "code",
   "execution_count": 6,
   "metadata": {},
   "outputs": [
    {
     "data": {
      "text/plain": [
       "['a. Bill - Cluster 0.png',\n",
       " 'AIC_BIC_SARIMA.png',\n",
       " 'Average Monthly demand per consumer.png',\n",
       " 'b. Consumption - Cluster 0.png',\n",
       " 'boxplots_signals.png',\n",
       " 'c. Bill - Cluster 2.png',\n",
       " 'Consumptions and bills.png',\n",
       " 'd. Consumption - Cluster 2.png',\n",
       " 'daily demand line.png',\n",
       " 'Demand for different tarrifs.png',\n",
       " 'group mean demand demand.png',\n",
       " 'heatmap hourly consumption.png',\n",
       " 'heatmaps hourly consumption per season.png',\n",
       " 'histogram daily consumption per season.png',\n",
       " 'mae_offset_SARIMA.png',\n",
       " 'mape_SARIMA.png',\n",
       " 'PCA_clustering.png',\n",
       " 'Percentage of Acorn Groups.png',\n",
       " 'r_squared_SARIMA.png',\n",
       " 'sarima_summary.PNG',\n",
       " 'Scores for clusters.png',\n",
       " 'Silhouette Score.png',\n",
       " 'testing_SARIMA.png',\n",
       " 'training_SARIMA.png',\n",
       " 'TSNE_clustering.png',\n",
       " 'violin plot daily consumption by month.png']"
      ]
     },
     "execution_count": 6,
     "metadata": {},
     "output_type": "execute_result"
    }
   ],
   "source": [
    "fig_path = '../Figures/'\n",
    "os.listdir(fig_path)"
   ]
  },
  {
   "cell_type": "code",
   "execution_count": 7,
   "metadata": {},
   "outputs": [],
   "source": [
    "path = '../Dataset/Power Networks/Power-Networks-LCL-June2015(withAcornGps).csv_Pieces/'\n",
    "filename = '2013_agg_dates.csv'\n",
    "t = time.time()\n",
    "df = pd.read_csv(path+filename)\n",
    "elapsed = time.time() - t"
   ]
  },
  {
   "cell_type": "code",
   "execution_count": 8,
   "metadata": {},
   "outputs": [
    {
     "data": {
      "text/html": [
       "<div>\n",
       "<style scoped>\n",
       "    .dataframe tbody tr th:only-of-type {\n",
       "        vertical-align: middle;\n",
       "    }\n",
       "\n",
       "    .dataframe tbody tr th {\n",
       "        vertical-align: top;\n",
       "    }\n",
       "\n",
       "    .dataframe thead th {\n",
       "        text-align: right;\n",
       "    }\n",
       "</style>\n",
       "<table border=\"1\" class=\"dataframe\">\n",
       "  <thead>\n",
       "    <tr style=\"text-align: right;\">\n",
       "      <th></th>\n",
       "      <th>Unnamed: 0</th>\n",
       "      <th>LCLid</th>\n",
       "      <th>stdorToU</th>\n",
       "      <th>DateTime</th>\n",
       "      <th>Acorn</th>\n",
       "      <th>Acorn_grouped</th>\n",
       "      <th>Entries</th>\n",
       "      <th>kwh</th>\n",
       "      <th>Minute</th>\n",
       "      <th>Month</th>\n",
       "      <th>Hour</th>\n",
       "      <th>Day</th>\n",
       "      <th>DayName</th>\n",
       "      <th>Weekday</th>\n",
       "      <th>kw</th>\n",
       "      <th>MonthName</th>\n",
       "      <th>Season</th>\n",
       "      <th>WeekNumber</th>\n",
       "    </tr>\n",
       "  </thead>\n",
       "  <tbody>\n",
       "    <tr>\n",
       "      <th>0</th>\n",
       "      <td>0</td>\n",
       "      <td>MAC000002</td>\n",
       "      <td>Std</td>\n",
       "      <td>2013-01-01 00:00:00</td>\n",
       "      <td>ACORN-A</td>\n",
       "      <td>Affluent</td>\n",
       "      <td>17520</td>\n",
       "      <td>0.219</td>\n",
       "      <td>0</td>\n",
       "      <td>1</td>\n",
       "      <td>0</td>\n",
       "      <td>1</td>\n",
       "      <td>Tuesday</td>\n",
       "      <td>1</td>\n",
       "      <td>0.438</td>\n",
       "      <td>January</td>\n",
       "      <td>Winter</td>\n",
       "      <td>1</td>\n",
       "    </tr>\n",
       "    <tr>\n",
       "      <th>1</th>\n",
       "      <td>1</td>\n",
       "      <td>MAC000002</td>\n",
       "      <td>Std</td>\n",
       "      <td>2013-01-01 00:30:00</td>\n",
       "      <td>ACORN-A</td>\n",
       "      <td>Affluent</td>\n",
       "      <td>17520</td>\n",
       "      <td>0.241</td>\n",
       "      <td>30</td>\n",
       "      <td>1</td>\n",
       "      <td>0</td>\n",
       "      <td>1</td>\n",
       "      <td>Tuesday</td>\n",
       "      <td>1</td>\n",
       "      <td>0.482</td>\n",
       "      <td>January</td>\n",
       "      <td>Winter</td>\n",
       "      <td>1</td>\n",
       "    </tr>\n",
       "    <tr>\n",
       "      <th>2</th>\n",
       "      <td>2</td>\n",
       "      <td>MAC000002</td>\n",
       "      <td>Std</td>\n",
       "      <td>2013-01-01 01:00:00</td>\n",
       "      <td>ACORN-A</td>\n",
       "      <td>Affluent</td>\n",
       "      <td>17520</td>\n",
       "      <td>0.191</td>\n",
       "      <td>0</td>\n",
       "      <td>1</td>\n",
       "      <td>1</td>\n",
       "      <td>1</td>\n",
       "      <td>Tuesday</td>\n",
       "      <td>1</td>\n",
       "      <td>0.382</td>\n",
       "      <td>January</td>\n",
       "      <td>Winter</td>\n",
       "      <td>1</td>\n",
       "    </tr>\n",
       "    <tr>\n",
       "      <th>3</th>\n",
       "      <td>3</td>\n",
       "      <td>MAC000002</td>\n",
       "      <td>Std</td>\n",
       "      <td>2013-01-01 01:30:00</td>\n",
       "      <td>ACORN-A</td>\n",
       "      <td>Affluent</td>\n",
       "      <td>17520</td>\n",
       "      <td>0.235</td>\n",
       "      <td>30</td>\n",
       "      <td>1</td>\n",
       "      <td>1</td>\n",
       "      <td>1</td>\n",
       "      <td>Tuesday</td>\n",
       "      <td>1</td>\n",
       "      <td>0.470</td>\n",
       "      <td>January</td>\n",
       "      <td>Winter</td>\n",
       "      <td>1</td>\n",
       "    </tr>\n",
       "    <tr>\n",
       "      <th>4</th>\n",
       "      <td>4</td>\n",
       "      <td>MAC000002</td>\n",
       "      <td>Std</td>\n",
       "      <td>2013-01-01 02:00:00</td>\n",
       "      <td>ACORN-A</td>\n",
       "      <td>Affluent</td>\n",
       "      <td>17520</td>\n",
       "      <td>0.182</td>\n",
       "      <td>0</td>\n",
       "      <td>1</td>\n",
       "      <td>2</td>\n",
       "      <td>1</td>\n",
       "      <td>Tuesday</td>\n",
       "      <td>1</td>\n",
       "      <td>0.364</td>\n",
       "      <td>January</td>\n",
       "      <td>Winter</td>\n",
       "      <td>1</td>\n",
       "    </tr>\n",
       "  </tbody>\n",
       "</table>\n",
       "</div>"
      ],
      "text/plain": [
       "   Unnamed: 0      LCLid stdorToU             DateTime    Acorn Acorn_grouped  \\\n",
       "0           0  MAC000002      Std  2013-01-01 00:00:00  ACORN-A      Affluent   \n",
       "1           1  MAC000002      Std  2013-01-01 00:30:00  ACORN-A      Affluent   \n",
       "2           2  MAC000002      Std  2013-01-01 01:00:00  ACORN-A      Affluent   \n",
       "3           3  MAC000002      Std  2013-01-01 01:30:00  ACORN-A      Affluent   \n",
       "4           4  MAC000002      Std  2013-01-01 02:00:00  ACORN-A      Affluent   \n",
       "\n",
       "   Entries    kwh  Minute  Month  Hour  Day  DayName  Weekday     kw  \\\n",
       "0    17520  0.219       0      1     0    1  Tuesday        1  0.438   \n",
       "1    17520  0.241      30      1     0    1  Tuesday        1  0.482   \n",
       "2    17520  0.191       0      1     1    1  Tuesday        1  0.382   \n",
       "3    17520  0.235      30      1     1    1  Tuesday        1  0.470   \n",
       "4    17520  0.182       0      1     2    1  Tuesday        1  0.364   \n",
       "\n",
       "  MonthName  Season  WeekNumber  \n",
       "0   January  Winter           1  \n",
       "1   January  Winter           1  \n",
       "2   January  Winter           1  \n",
       "3   January  Winter           1  \n",
       "4   January  Winter           1  "
      ]
     },
     "execution_count": 8,
     "metadata": {},
     "output_type": "execute_result"
    }
   ],
   "source": [
    "df.head()"
   ]
  },
  {
   "cell_type": "code",
   "execution_count": 9,
   "metadata": {},
   "outputs": [
    {
     "data": {
      "text/plain": [
       "1132"
      ]
     },
     "execution_count": 9,
     "metadata": {},
     "output_type": "execute_result"
    }
   ],
   "source": [
    "df['LCLid'].nunique()"
   ]
  },
  {
   "cell_type": "markdown",
   "metadata": {},
   "source": [
    "# Percentages of Acorn Groups"
   ]
  },
  {
   "cell_type": "code",
   "execution_count": 10,
   "metadata": {},
   "outputs": [],
   "source": [
    "cons = df['LCLid'].nunique() # count of consumers\n",
    "perc_cons = df.groupby(['Acorn_grouped', 'stdorToU'])['LCLid'].nunique().reset_index() # count of consumers in every group"
   ]
  },
  {
   "cell_type": "code",
   "execution_count": 11,
   "metadata": {},
   "outputs": [],
   "source": [
    "perc_cons['Percentage'] = perc_cons['LCLid']/cons*100 # Percentage of consumers in every group"
   ]
  },
  {
   "cell_type": "code",
   "execution_count": 12,
   "metadata": {},
   "outputs": [],
   "source": [
    "# Dictionary with indexes for the group names\n",
    "x_dict = dict(zip(perc_cons['Acorn_grouped'].unique().tolist(), [i for i in range(0, perc_cons['Acorn_grouped'].nunique())]))"
   ]
  },
  {
   "cell_type": "code",
   "execution_count": 13,
   "metadata": {},
   "outputs": [
    {
     "data": {
      "image/png": "[encoded data removed]",
      "text/plain": [
       "<Figure size 576x360 with 1 Axes>"
      ]
     },
     "metadata": {
      "needs_background": "light"
     },
     "output_type": "display_data"
    }
   ],
   "source": [
    "width = 0.25\n",
    "\n",
    "# Define x and y axis\n",
    "X = np.array(list(x_dict.values()))\n",
    "tou = perc_cons['Percentage'].loc[perc_cons['stdorToU'] == 'ToU']\n",
    "std = perc_cons['Percentage'].loc[perc_cons['stdorToU'] == 'Std']\n",
    "\n",
    "# Plot bars\n",
    "fig, ax = plt.subplots(figsize = (8, 5))\n",
    "ax.bar(X, std, width, color = 'green', alpha = 0.5, edgecolor = 'black')\n",
    "ax.bar(X+width, tou, width, color = 'blue', alpha = 0.5, edgecolor = 'black')\n",
    "\n",
    "# Plot axes\n",
    "ax.set_xticks(X+width/2)\n",
    "ax.set_xticklabels(list(x_dict.keys()))\n",
    "\n",
    "# Set the y axis label\n",
    "ax.set_ylabel('Percentage (%)')\n",
    "\n",
    "# Set the chart's title\n",
    "ax.set_title('Percentages of Acorn Groups')\n",
    "# Set legend\n",
    "plt.legend(['Standard', 'ToU'], loc='upper left')\n",
    "# Save\n",
    "plt.savefig(fig_path+'Percentage of Acorn Groups.png')\n",
    "# Show\n",
    "plt.show()"
   ]
  },
  {
   "cell_type": "markdown",
   "metadata": {},
   "source": [
    "# Mean monthly consumption per group"
   ]
  },
  {
   "cell_type": "code",
   "execution_count": 15,
   "metadata": {},
   "outputs": [],
   "source": [
    "monthly = df.groupby(['Acorn_grouped', 'stdorToU','Month'])['kw'].sum().reset_index() # monthly sums\n",
    "perc_cons = df.groupby(['Acorn_grouped', 'stdorToU'])['LCLid'].nunique().reset_index().rename(columns = {'LCLid': 'count'}) # count of consumers\n",
    "month_ave = pd.merge(monthly, perc_cons, how = 'outer', on=['Acorn_grouped', 'stdorToU']) # merge"
   ]
  },
  {
   "cell_type": "code",
   "execution_count": 16,
   "metadata": {},
   "outputs": [],
   "source": [
    "month_ave['kw per consumer'] = month_ave['kw']/month_ave['count'] \n",
    "perc_cons = month_ave.groupby(['Acorn_grouped', 'stdorToU'])['kw per consumer'].mean().reset_index().rename(columns = {'kw per consumer':'kw'})"
   ]
  },
  {
   "cell_type": "code",
   "execution_count": 17,
   "metadata": {},
   "outputs": [
    {
     "data": {
      "text/plain": [
       "['ACORN-U', 'Adversity', 'Affluent', 'Comfortable']"
      ]
     },
     "execution_count": 17,
     "metadata": {},
     "output_type": "execute_result"
    }
   ],
   "source": [
    "x_dict = dict(zip(perc_cons['Acorn_grouped'].unique().tolist(), [i for i in range(0, perc_cons['Acorn_grouped'].nunique())]))\n",
    "perc_cons['Acorn_grouped'].unique().tolist()"
   ]
  },
  {
   "cell_type": "code",
   "execution_count": 21,
   "metadata": {},
   "outputs": [
    {
     "data": {
      "image/png": "[encoded data removed]",
      "text/plain": [
       "<Figure size 576x360 with 1 Axes>"
      ]
     },
     "metadata": {
      "needs_background": "light"
     },
     "output_type": "display_data"
    }
   ],
   "source": [
    "width = 0.25\n",
    "\n",
    "# Define x and y axis\n",
    "X = np.array(list(x_dict.values()))\n",
    "temp = perc_cons.groupby(['Acorn_grouped', 'stdorToU'])['kw'].mean().reset_index()\n",
    "tou = temp.loc[temp['stdorToU'] == 'ToU']\n",
    "std = temp.loc[temp['stdorToU'] == 'Std']\n",
    "\n",
    "# Plot bars\n",
    "fig, ax = plt.subplots(figsize = (8, 5))\n",
    "ax.bar(X, std['kw'], width, color = 'green', alpha = 0.5, edgecolor = 'black')\n",
    "ax.bar(X+width, tou['kw'], width, color = 'blue', alpha = 0.5, edgecolor = 'black')\n",
    "\n",
    "# Plot axes\n",
    "ax.set_xticks(X+width/2)\n",
    "ax.set_xticklabels(list(x_dict.keys()))\n",
    "\n",
    "# Set the y axis label\n",
    "ax.set_ylabel('Demand kW')\n",
    "\n",
    "# Set the chart's title\n",
    "ax.set_title('Mean demand per Acorn Groups')\n",
    "# Set the chart's title\n",
    "plt.legend(['Standard', 'ToU'], loc='upper left')\n",
    "# Save\n",
    "plt.savefig(fig_path+'Average Monthly demand per consumer.png')\n",
    "# Plot\n",
    "plt.show()"
   ]
  }
 ],
 "metadata": {
  "kernelspec": {
   "display_name": "Python 3",
   "language": "python",
   "name": "python3"
  },
  "language_info": {
   "codemirror_mode": {
    "name": "ipython",
    "version": 3
   },
   "file_extension": ".py",
   "mimetype": "text/x-python",
   "name": "python",
   "nbconvert_exporter": "python",
   "pygments_lexer": "ipython3",
   "version": "3.7.2"
  }
 },
 "nbformat": 4,
 "nbformat_minor": 2
}
