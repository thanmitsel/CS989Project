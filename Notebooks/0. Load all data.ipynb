{
 "cells": [
  {
   "cell_type": "code",
   "execution_count": 2,
   "metadata": {},
   "outputs": [],
   "source": [
    "import os\n",
    "import pandas as pd\n",
    "import datetime as dt"
   ]
  },
  {
   "cell_type": "code",
   "execution_count": 3,
   "metadata": {},
   "outputs": [
    {
     "data": {
      "text/plain": [
       "['consumptions_2013.csv',\n",
       " 'Power-Networks-LCL-June2015(withAcornGps)v2_1.csv',\n",
       " 'Power-Networks-LCL-June2015(withAcornGps)v2_10.csv',\n",
       " 'Power-Networks-LCL-June2015(withAcornGps)v2_100.csv',\n",
       " 'Power-Networks-LCL-June2015(withAcornGps)v2_101.csv',\n",
       " 'Power-Networks-LCL-June2015(withAcornGps)v2_102.csv',\n",
       " 'Power-Networks-LCL-June2015(withAcornGps)v2_103.csv',\n",
       " 'Power-Networks-LCL-June2015(withAcornGps)v2_104.csv',\n",
       " 'Power-Networks-LCL-June2015(withAcornGps)v2_105.csv',\n",
       " 'Power-Networks-LCL-June2015(withAcornGps)v2_106.csv',\n",
       " 'Power-Networks-LCL-June2015(withAcornGps)v2_107.csv',\n",
       " 'Power-Networks-LCL-June2015(withAcornGps)v2_108.csv',\n",
       " 'Power-Networks-LCL-June2015(withAcornGps)v2_109.csv',\n",
       " 'Power-Networks-LCL-June2015(withAcornGps)v2_11.csv',\n",
       " 'Power-Networks-LCL-June2015(withAcornGps)v2_110.csv',\n",
       " 'Power-Networks-LCL-June2015(withAcornGps)v2_111.csv',\n",
       " 'Power-Networks-LCL-June2015(withAcornGps)v2_112.csv',\n",
       " 'Power-Networks-LCL-June2015(withAcornGps)v2_113.csv',\n",
       " 'Power-Networks-LCL-June2015(withAcornGps)v2_114.csv',\n",
       " 'Power-Networks-LCL-June2015(withAcornGps)v2_115.csv',\n",
       " 'Power-Networks-LCL-June2015(withAcornGps)v2_116.csv',\n",
       " 'Power-Networks-LCL-June2015(withAcornGps)v2_117.csv',\n",
       " 'Power-Networks-LCL-June2015(withAcornGps)v2_118.csv',\n",
       " 'Power-Networks-LCL-June2015(withAcornGps)v2_119.csv',\n",
       " 'Power-Networks-LCL-June2015(withAcornGps)v2_12.csv',\n",
       " 'Power-Networks-LCL-June2015(withAcornGps)v2_120.csv',\n",
       " 'Power-Networks-LCL-June2015(withAcornGps)v2_121.csv',\n",
       " 'Power-Networks-LCL-June2015(withAcornGps)v2_122.csv',\n",
       " 'Power-Networks-LCL-June2015(withAcornGps)v2_123.csv',\n",
       " 'Power-Networks-LCL-June2015(withAcornGps)v2_124.csv',\n",
       " 'Power-Networks-LCL-June2015(withAcornGps)v2_125.csv',\n",
       " 'Power-Networks-LCL-June2015(withAcornGps)v2_126.csv',\n",
       " 'Power-Networks-LCL-June2015(withAcornGps)v2_127.csv',\n",
       " 'Power-Networks-LCL-June2015(withAcornGps)v2_128.csv',\n",
       " 'Power-Networks-LCL-June2015(withAcornGps)v2_129.csv',\n",
       " 'Power-Networks-LCL-June2015(withAcornGps)v2_13.csv',\n",
       " 'Power-Networks-LCL-June2015(withAcornGps)v2_130.csv',\n",
       " 'Power-Networks-LCL-June2015(withAcornGps)v2_131.csv',\n",
       " 'Power-Networks-LCL-June2015(withAcornGps)v2_132.csv',\n",
       " 'Power-Networks-LCL-June2015(withAcornGps)v2_133.csv',\n",
       " 'Power-Networks-LCL-June2015(withAcornGps)v2_134.csv',\n",
       " 'Power-Networks-LCL-June2015(withAcornGps)v2_135.csv',\n",
       " 'Power-Networks-LCL-June2015(withAcornGps)v2_136.csv',\n",
       " 'Power-Networks-LCL-June2015(withAcornGps)v2_137.csv',\n",
       " 'Power-Networks-LCL-June2015(withAcornGps)v2_138.csv',\n",
       " 'Power-Networks-LCL-June2015(withAcornGps)v2_139.csv',\n",
       " 'Power-Networks-LCL-June2015(withAcornGps)v2_14.csv',\n",
       " 'Power-Networks-LCL-June2015(withAcornGps)v2_140.csv',\n",
       " 'Power-Networks-LCL-June2015(withAcornGps)v2_141.csv',\n",
       " 'Power-Networks-LCL-June2015(withAcornGps)v2_142.csv',\n",
       " 'Power-Networks-LCL-June2015(withAcornGps)v2_143.csv',\n",
       " 'Power-Networks-LCL-June2015(withAcornGps)v2_144.csv',\n",
       " 'Power-Networks-LCL-June2015(withAcornGps)v2_145.csv',\n",
       " 'Power-Networks-LCL-June2015(withAcornGps)v2_146.csv',\n",
       " 'Power-Networks-LCL-June2015(withAcornGps)v2_147.csv',\n",
       " 'Power-Networks-LCL-June2015(withAcornGps)v2_148.csv',\n",
       " 'Power-Networks-LCL-June2015(withAcornGps)v2_149.csv',\n",
       " 'Power-Networks-LCL-June2015(withAcornGps)v2_15.csv',\n",
       " 'Power-Networks-LCL-June2015(withAcornGps)v2_150.csv',\n",
       " 'Power-Networks-LCL-June2015(withAcornGps)v2_151.csv',\n",
       " 'Power-Networks-LCL-June2015(withAcornGps)v2_152.csv',\n",
       " 'Power-Networks-LCL-June2015(withAcornGps)v2_153.csv',\n",
       " 'Power-Networks-LCL-June2015(withAcornGps)v2_154.csv',\n",
       " 'Power-Networks-LCL-June2015(withAcornGps)v2_155.csv',\n",
       " 'Power-Networks-LCL-June2015(withAcornGps)v2_156.csv',\n",
       " 'Power-Networks-LCL-June2015(withAcornGps)v2_157.csv',\n",
       " 'Power-Networks-LCL-June2015(withAcornGps)v2_158.csv',\n",
       " 'Power-Networks-LCL-June2015(withAcornGps)v2_159.csv',\n",
       " 'Power-Networks-LCL-June2015(withAcornGps)v2_16.csv',\n",
       " 'Power-Networks-LCL-June2015(withAcornGps)v2_160.csv',\n",
       " 'Power-Networks-LCL-June2015(withAcornGps)v2_161.csv',\n",
       " 'Power-Networks-LCL-June2015(withAcornGps)v2_162.csv',\n",
       " 'Power-Networks-LCL-June2015(withAcornGps)v2_163.csv',\n",
       " 'Power-Networks-LCL-June2015(withAcornGps)v2_164.csv',\n",
       " 'Power-Networks-LCL-June2015(withAcornGps)v2_165.csv',\n",
       " 'Power-Networks-LCL-June2015(withAcornGps)v2_166.csv',\n",
       " 'Power-Networks-LCL-June2015(withAcornGps)v2_167.csv',\n",
       " 'Power-Networks-LCL-June2015(withAcornGps)v2_168.csv',\n",
       " 'Power-Networks-LCL-June2015(withAcornGps)v2_17.csv',\n",
       " 'Power-Networks-LCL-June2015(withAcornGps)v2_18.csv',\n",
       " 'Power-Networks-LCL-June2015(withAcornGps)v2_19.csv',\n",
       " 'Power-Networks-LCL-June2015(withAcornGps)v2_2.csv',\n",
       " 'Power-Networks-LCL-June2015(withAcornGps)v2_20.csv',\n",
       " 'Power-Networks-LCL-June2015(withAcornGps)v2_21.csv',\n",
       " 'Power-Networks-LCL-June2015(withAcornGps)v2_22.csv',\n",
       " 'Power-Networks-LCL-June2015(withAcornGps)v2_23.csv',\n",
       " 'Power-Networks-LCL-June2015(withAcornGps)v2_24.csv',\n",
       " 'Power-Networks-LCL-June2015(withAcornGps)v2_25.csv',\n",
       " 'Power-Networks-LCL-June2015(withAcornGps)v2_26.csv',\n",
       " 'Power-Networks-LCL-June2015(withAcornGps)v2_27.csv',\n",
       " 'Power-Networks-LCL-June2015(withAcornGps)v2_28.csv',\n",
       " 'Power-Networks-LCL-June2015(withAcornGps)v2_29.csv',\n",
       " 'Power-Networks-LCL-June2015(withAcornGps)v2_3.csv',\n",
       " 'Power-Networks-LCL-June2015(withAcornGps)v2_30.csv',\n",
       " 'Power-Networks-LCL-June2015(withAcornGps)v2_31.csv',\n",
       " 'Power-Networks-LCL-June2015(withAcornGps)v2_32.csv',\n",
       " 'Power-Networks-LCL-June2015(withAcornGps)v2_33.csv',\n",
       " 'Power-Networks-LCL-June2015(withAcornGps)v2_34.csv',\n",
       " 'Power-Networks-LCL-June2015(withAcornGps)v2_35.csv',\n",
       " 'Power-Networks-LCL-June2015(withAcornGps)v2_36.csv',\n",
       " 'Power-Networks-LCL-June2015(withAcornGps)v2_37.csv',\n",
       " 'Power-Networks-LCL-June2015(withAcornGps)v2_38.csv',\n",
       " 'Power-Networks-LCL-June2015(withAcornGps)v2_39.csv',\n",
       " 'Power-Networks-LCL-June2015(withAcornGps)v2_4.csv',\n",
       " 'Power-Networks-LCL-June2015(withAcornGps)v2_40.csv',\n",
       " 'Power-Networks-LCL-June2015(withAcornGps)v2_41.csv',\n",
       " 'Power-Networks-LCL-June2015(withAcornGps)v2_42.csv',\n",
       " 'Power-Networks-LCL-June2015(withAcornGps)v2_43.csv',\n",
       " 'Power-Networks-LCL-June2015(withAcornGps)v2_44.csv',\n",
       " 'Power-Networks-LCL-June2015(withAcornGps)v2_45.csv',\n",
       " 'Power-Networks-LCL-June2015(withAcornGps)v2_46.csv',\n",
       " 'Power-Networks-LCL-June2015(withAcornGps)v2_47.csv',\n",
       " 'Power-Networks-LCL-June2015(withAcornGps)v2_48.csv',\n",
       " 'Power-Networks-LCL-June2015(withAcornGps)v2_49.csv',\n",
       " 'Power-Networks-LCL-June2015(withAcornGps)v2_5.csv',\n",
       " 'Power-Networks-LCL-June2015(withAcornGps)v2_50.csv',\n",
       " 'Power-Networks-LCL-June2015(withAcornGps)v2_51.csv',\n",
       " 'Power-Networks-LCL-June2015(withAcornGps)v2_52.csv',\n",
       " 'Power-Networks-LCL-June2015(withAcornGps)v2_53.csv',\n",
       " 'Power-Networks-LCL-June2015(withAcornGps)v2_54.csv',\n",
       " 'Power-Networks-LCL-June2015(withAcornGps)v2_55.csv',\n",
       " 'Power-Networks-LCL-June2015(withAcornGps)v2_56.csv',\n",
       " 'Power-Networks-LCL-June2015(withAcornGps)v2_57.csv',\n",
       " 'Power-Networks-LCL-June2015(withAcornGps)v2_58.csv',\n",
       " 'Power-Networks-LCL-June2015(withAcornGps)v2_59.csv',\n",
       " 'Power-Networks-LCL-June2015(withAcornGps)v2_6.csv',\n",
       " 'Power-Networks-LCL-June2015(withAcornGps)v2_60.csv',\n",
       " 'Power-Networks-LCL-June2015(withAcornGps)v2_61.csv',\n",
       " 'Power-Networks-LCL-June2015(withAcornGps)v2_62.csv',\n",
       " 'Power-Networks-LCL-June2015(withAcornGps)v2_63.csv',\n",
       " 'Power-Networks-LCL-June2015(withAcornGps)v2_64.csv',\n",
       " 'Power-Networks-LCL-June2015(withAcornGps)v2_65.csv',\n",
       " 'Power-Networks-LCL-June2015(withAcornGps)v2_66.csv',\n",
       " 'Power-Networks-LCL-June2015(withAcornGps)v2_67.csv',\n",
       " 'Power-Networks-LCL-June2015(withAcornGps)v2_68.csv',\n",
       " 'Power-Networks-LCL-June2015(withAcornGps)v2_69.csv',\n",
       " 'Power-Networks-LCL-June2015(withAcornGps)v2_7.csv',\n",
       " 'Power-Networks-LCL-June2015(withAcornGps)v2_70.csv',\n",
       " 'Power-Networks-LCL-June2015(withAcornGps)v2_71.csv',\n",
       " 'Power-Networks-LCL-June2015(withAcornGps)v2_72.csv',\n",
       " 'Power-Networks-LCL-June2015(withAcornGps)v2_73.csv',\n",
       " 'Power-Networks-LCL-June2015(withAcornGps)v2_74.csv',\n",
       " 'Power-Networks-LCL-June2015(withAcornGps)v2_75.csv',\n",
       " 'Power-Networks-LCL-June2015(withAcornGps)v2_76.csv',\n",
       " 'Power-Networks-LCL-June2015(withAcornGps)v2_77.csv',\n",
       " 'Power-Networks-LCL-June2015(withAcornGps)v2_78.csv',\n",
       " 'Power-Networks-LCL-June2015(withAcornGps)v2_79.csv',\n",
       " 'Power-Networks-LCL-June2015(withAcornGps)v2_8.csv',\n",
       " 'Power-Networks-LCL-June2015(withAcornGps)v2_80.csv',\n",
       " 'Power-Networks-LCL-June2015(withAcornGps)v2_81.csv',\n",
       " 'Power-Networks-LCL-June2015(withAcornGps)v2_82.csv',\n",
       " 'Power-Networks-LCL-June2015(withAcornGps)v2_83.csv',\n",
       " 'Power-Networks-LCL-June2015(withAcornGps)v2_84.csv',\n",
       " 'Power-Networks-LCL-June2015(withAcornGps)v2_85.csv',\n",
       " 'Power-Networks-LCL-June2015(withAcornGps)v2_86.csv',\n",
       " 'Power-Networks-LCL-June2015(withAcornGps)v2_87.csv',\n",
       " 'Power-Networks-LCL-June2015(withAcornGps)v2_88.csv',\n",
       " 'Power-Networks-LCL-June2015(withAcornGps)v2_89.csv',\n",
       " 'Power-Networks-LCL-June2015(withAcornGps)v2_9.csv',\n",
       " 'Power-Networks-LCL-June2015(withAcornGps)v2_90.csv',\n",
       " 'Power-Networks-LCL-June2015(withAcornGps)v2_91.csv',\n",
       " 'Power-Networks-LCL-June2015(withAcornGps)v2_92.csv',\n",
       " 'Power-Networks-LCL-June2015(withAcornGps)v2_93.csv',\n",
       " 'Power-Networks-LCL-June2015(withAcornGps)v2_94.csv',\n",
       " 'Power-Networks-LCL-June2015(withAcornGps)v2_95.csv',\n",
       " 'Power-Networks-LCL-June2015(withAcornGps)v2_96.csv',\n",
       " 'Power-Networks-LCL-June2015(withAcornGps)v2_97.csv',\n",
       " 'Power-Networks-LCL-June2015(withAcornGps)v2_98.csv',\n",
       " 'Power-Networks-LCL-June2015(withAcornGps)v2_99.csv',\n",
       " 'Std consumptions 2013',\n",
       " 'ToU consumptions 2013',\n",
       " 'tou_tar.csv']"
      ]
     },
     "execution_count": 3,
     "metadata": {},
     "output_type": "execute_result"
    }
   ],
   "source": [
    "path = '../Dataset/Power Networks/Power-Networks-LCL-June2015(withAcornGps).csv_Pieces/'\n",
    "os.listdir(path)"
   ]
  },
  {
   "cell_type": "markdown",
   "metadata": {},
   "source": [
    "# Read every csv file \n",
    "## Only data for 2013 are kept"
   ]
  },
  {
   "cell_type": "code",
   "execution_count": 4,
   "metadata": {},
   "outputs": [],
   "source": [
    "df = pd.DataFrame()\n",
    "for i in range(1,169): # loop over every file\n",
    "    print(i)\n",
    "    filename = 'Power-Networks-LCL-June2015(withAcornGps)v2_{}.csv'.format(i) # read\n",
    "    temp = pd.read_csv(path+filename)\n",
    "    temp.DateTime = pd.to_datetime(temp.DateTime, format = '%Y-%m-%d') # cast to datetime\n",
    "    filter_ = (temp.DateTime.dt.year == 2013) # set filter for the year\n",
    "    df = pd.concat([df, temp.loc[filter_]]) # concat the result"
   ]
  },
  {
   "cell_type": "code",
   "execution_count": 5,
   "metadata": {},
   "outputs": [],
   "source": [
    "# df.to_csv(path+'consumptions_2013.csv') # export the data"
   ]
  },
  {
   "cell_type": "code",
   "execution_count": 6,
   "metadata": {},
   "outputs": [
    {
     "ename": "NameError",
     "evalue": "name 'df' is not defined",
     "output_type": "error",
     "traceback": [
      "\u001b[1;31m---------------------------------------------------------------------------\u001b[0m",
      "\u001b[1;31mNameError\u001b[0m                                 Traceback (most recent call last)",
      "\u001b[1;32m<ipython-input-6-697638bcb65a>\u001b[0m in \u001b[0;36m<module>\u001b[1;34m\u001b[0m\n\u001b[1;32m----> 1\u001b[1;33m \u001b[0mdf\u001b[0m\u001b[1;33m.\u001b[0m\u001b[0mstdorToU\u001b[0m\u001b[1;33m.\u001b[0m\u001b[0munique\u001b[0m\u001b[1;33m(\u001b[0m\u001b[1;33m)\u001b[0m\u001b[1;33m\u001b[0m\u001b[1;33m\u001b[0m\u001b[0m\n\u001b[0m",
      "\u001b[1;31mNameError\u001b[0m: name 'df' is not defined"
     ]
    }
   ],
   "source": [
    "df.stdorToU.unique()"
   ]
  },
  {
   "cell_type": "code",
   "execution_count": 78,
   "metadata": {},
   "outputs": [
    {
     "data": {
      "text/plain": [
       "1117"
      ]
     },
     "execution_count": 78,
     "metadata": {},
     "output_type": "execute_result"
    }
   ],
   "source": [
    "df['LCLid'].loc[df.stdorToU == 'ToU'].nunique()"
   ]
  },
  {
   "cell_type": "code",
   "execution_count": 79,
   "metadata": {},
   "outputs": [],
   "source": [
    "# Segment consumers\n",
    "tou = df.loc[df.stdorToU == 'ToU'] \n",
    "std = df.loc[df.stdorToU == 'Std']"
   ]
  },
  {
   "cell_type": "code",
   "execution_count": 80,
   "metadata": {},
   "outputs": [],
   "source": [
    "# tou.to_csv(path+'ToU consumptions 2013')\n",
    "# std.to_csv(path+'Std consumptions 2013')"
   ]
  }
 ],
 "metadata": {
  "kernelspec": {
   "display_name": "Python 3",
   "language": "python",
   "name": "python3"
  },
  "language_info": {
   "codemirror_mode": {
    "name": "ipython",
    "version": 3
   },
   "file_extension": ".py",
   "mimetype": "text/x-python",
   "name": "python",
   "nbconvert_exporter": "python",
   "pygments_lexer": "ipython3",
   "version": "3.7.2"
  }
 },
 "nbformat": 4,
 "nbformat_minor": 2
}
