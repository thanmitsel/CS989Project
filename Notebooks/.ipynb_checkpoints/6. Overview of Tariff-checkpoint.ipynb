{
 "cells": [
  {
   "cell_type": "code",
   "execution_count": 1,
   "metadata": {},
   "outputs": [],
   "source": [
    "import pandas as pd\n",
    "import numpy as np\n",
    "import time\n",
    "import datetime as dt\n",
    "import matplotlib.pyplot as plt\n",
    "import seaborn as sns\n",
    "import calendar"
   ]
  },
  {
   "cell_type": "code",
   "execution_count": 30,
   "metadata": {},
   "outputs": [],
   "source": [
    "# read tariff dataset\n",
    "path = '../Dataset/Power Networks/'\n",
    "filename = 'Tariffs.xlsx'\n",
    "t = time.time()\n",
    "df = pd.read_excel(path+filename)\n",
    "elapsed = time.time() - t"
   ]
  },
  {
   "cell_type": "code",
   "execution_count": 3,
   "metadata": {},
   "outputs": [],
   "source": [
    "df.columns\n",
    "# df['Tariff'].unique()\n",
    "fig_path = '../Figures/'"
   ]
  },
  {
   "cell_type": "code",
   "execution_count": 4,
   "metadata": {},
   "outputs": [],
   "source": [
    "# read timeseries\n",
    "ts = pd.read_csv(path+'Power-Networks-LCL-June2015(withAcornGps).csv_Pieces/2013_agg_dates.csv')"
   ]
  },
  {
   "cell_type": "markdown",
   "metadata": {},
   "source": [
    "# Functions"
   ]
  },
  {
   "cell_type": "code",
   "execution_count": 5,
   "metadata": {},
   "outputs": [],
   "source": [
    "# function that converts series of signals to pairs\n",
    "# used to draw background colors on the plot\n",
    "def start_end_signal(df):\n",
    "    high_l = []\n",
    "    for i, idx in enumerate(df['index']):\n",
    "        if i == 0:\n",
    "            start = idx \n",
    "        else:\n",
    "            if (prev_idx + 1) == idx:\n",
    "                end = idx\n",
    "            else:\n",
    "                high_l.append([start, end])\n",
    "                start = idx\n",
    "                end =idx\n",
    "        prev_idx = idx\n",
    "    end = idx\n",
    "    high_l.append([start, end])\n",
    "    return(high_l)"
   ]
  },
  {
   "cell_type": "code",
   "execution_count": 6,
   "metadata": {},
   "outputs": [],
   "source": [
    "# get name of day\n",
    "def name_day(year, month, day):\n",
    "    ans = calendar.weekday(year,month,day)\n",
    "    return calendar.day_name[ans]"
   ]
  },
  {
   "cell_type": "code",
   "execution_count": 14,
   "metadata": {},
   "outputs": [],
   "source": [
    "# get name of month\n",
    "def name_month(val):\n",
    "    if (val == 1):\n",
    "        month = 'January'\n",
    "    elif (val == 2):\n",
    "        month = 'February'\n",
    "    elif (val == 3):\n",
    "        month = 'March'\n",
    "    elif (val == 4):\n",
    "        month = 'April'\n",
    "    elif (val == 5):\n",
    "        month = 'May'\n",
    "    elif (val == 6):\n",
    "        month = 'June'\n",
    "    elif (val == 7):\n",
    "        month = 'July'\n",
    "    elif (val == 8):\n",
    "        month = 'August'\n",
    "    elif (val == 9):\n",
    "        month = 'September'\n",
    "    elif (val == 10):\n",
    "        month = 'October'\n",
    "    elif (val == 11):\n",
    "        month = 'November'\n",
    "    elif (val == 12):\n",
    "        month = 'December'\n",
    "    else:\n",
    "        month = 'Not Existing Month'\n",
    "    return month"
   ]
  },
  {
   "cell_type": "code",
   "execution_count": 7,
   "metadata": {},
   "outputs": [],
   "source": [
    "# convert string to index\n",
    "def convert_to_num(val):\n",
    "    if val == 'Normal':\n",
    "        rval = 0\n",
    "    elif val == 'Low':\n",
    "        rval = -1\n",
    "    else:\n",
    "        rval = 1\n",
    "    return rval"
   ]
  },
  {
   "cell_type": "code",
   "execution_count": 8,
   "metadata": {},
   "outputs": [],
   "source": [
    "# convert string to price\n",
    "def add_price(val):\n",
    "    if val == 'Normal':\n",
    "        rval = 11.76\n",
    "    elif val == 'Low':\n",
    "        rval = 3.99\n",
    "    else:\n",
    "        rval = 77.2\n",
    "    return rval"
   ]
  },
  {
   "cell_type": "code",
   "execution_count": null,
   "metadata": {},
   "outputs": [],
   "source": [
    "# get number of week\n",
    "def week_number(year, month, day):\n",
    "    return dt.date(year, month, day).isocalendar()[1]"
   ]
  },
  {
   "cell_type": "markdown",
   "metadata": {},
   "source": [
    "# Edit Tariff dataset"
   ]
  },
  {
   "cell_type": "code",
   "execution_count": 31,
   "metadata": {},
   "outputs": [],
   "source": [
    "df['Tindex'] = df['Tariff'].apply(convert_to_num) # Strings to index\n",
    "df['Price'] = df['Tariff'].apply(add_price) # Add pricing"
   ]
  },
  {
   "cell_type": "code",
   "execution_count": 32,
   "metadata": {},
   "outputs": [
    {
     "data": {
      "text/plain": [
       "<matplotlib.axes._subplots.AxesSubplot at 0x202cda8a048>"
      ]
     },
     "execution_count": 32,
     "metadata": {},
     "output_type": "execute_result"
    },
    {
     "data": {
      "image/png": "[encoded data removed]",
      "text/plain": [
       "<Figure size 432x288 with 1 Axes>"
      ]
     },
     "metadata": {
      "needs_background": "light"
     },
     "output_type": "display_data"
    }
   ],
   "source": [
    "df.groupby('Tariff').size().plot(kind = 'bar') # plot counts of each signal"
   ]
  },
  {
   "cell_type": "code",
   "execution_count": 33,
   "metadata": {},
   "outputs": [],
   "source": [
    "# Add Month, Hour, Day, Minute Columns\n",
    "df['Month'] = df['TariffDateTime'].dt.month\n",
    "df['Hour'] = df['TariffDateTime'].dt.hour\n",
    "df['Day'] = df['TariffDateTime'].dt.day\n",
    "df['Minute'] = df['TariffDateTime'].dt.minute"
   ]
  },
  {
   "cell_type": "code",
   "execution_count": 34,
   "metadata": {},
   "outputs": [],
   "source": [
    "# add names of months\n",
    "df['MonthName'] = df['Month'].apply(name_month) "
   ]
  },
  {
   "cell_type": "code",
   "execution_count": 35,
   "metadata": {},
   "outputs": [],
   "source": [
    "# Give names and numbers for days and week\n",
    "df['DayName'] = df.apply(lambda row: name_day(2013, row['Month'], row['Day']), axis = 1)\n",
    "df['Weekday'] = df.apply(lambda row: calendar.weekday(2013, row['Month'], row['Day']), axis = 1)\n",
    "df['WeekNumber'] = df.apply(lambda row: week_number(2013, row['Month'], row['Day']), axis =1)"
   ]
  },
  {
   "cell_type": "markdown",
   "metadata": {},
   "source": [
    "# Comparison of ToU and STD"
   ]
  },
  {
   "cell_type": "code",
   "execution_count": 42,
   "metadata": {},
   "outputs": [],
   "source": [
    "sample = df.loc[df['WeekNumber'] == 3]\n",
    "sample = sample.loc[df['Day'] == 19]\n",
    "# sample = df.loc[df['Month'] == 1]\n",
    "\n",
    "# nice visuals on 5, 3, 8, 9\n",
    "sample.shape\n",
    "ts['DateTime'] = pd.to_datetime(ts['DateTime'])\n",
    "ts = ts.loc[ts['Acorn_grouped'] == 'Adversity']"
   ]
  },
  {
   "cell_type": "code",
   "execution_count": 43,
   "metadata": {},
   "outputs": [],
   "source": [
    "mergedsample = pd.merge(sample[['TariffDateTime', 'Tariff', 'Tindex']], ts, how = 'inner', left_on= 'TariffDateTime', right_on= 'DateTime')"
   ]
  },
  {
   "cell_type": "code",
   "execution_count": 44,
   "metadata": {},
   "outputs": [
    {
     "data": {
      "image/png": "[encoded data removed]",
      "text/plain": [
       "<Figure size 576x360 with 1 Axes>"
      ]
     },
     "metadata": {
      "needs_background": "light"
     },
     "output_type": "display_data"
    }
   ],
   "source": [
    "x = [i for i in range(0, sample.shape[0])] #fake data\n",
    "y = [5 for i in range(0, sample.shape[0])]\n",
    "\n",
    "fig, ax = plt.subplots(figsize = (8,5))\n",
    "\n",
    "\n",
    "# Plot the lines\n",
    "for group in mergedsample['stdorToU'].unique():\n",
    "    count = mergedsample['LCLid'].loc[mergedsample['stdorToU'] == group].nunique()\n",
    "    mergedsample.loc[mergedsample['stdorToU'] == group].groupby(['Month', 'Day', 'Hour'])['kw'].apply(lambda row: row.sum()/count).plot(kind= 'line', label = group)\n",
    "plt.legend(loc = 'upper right')\n",
    "\n",
    "ax.grid()\n",
    "ax.margins(0) # remove default margins (matplotlib verision 2+)\n",
    "\n",
    "# Plot the background color for high singals\n",
    "sample['index'] = [i for i in range(0, sample.shape[0])]\n",
    "high = sample[['WeekNumber', 'Day', 'Hour', 'index']].loc[sample['Tariff'] == 'High']\n",
    "if high.shape[0] != 0: # access if data exist\n",
    "    list_h = start_end_signal(high) # get list from series\n",
    "    for pair in list_h:# iterate over pairs and plot\n",
    "        ax.axvspan(pair[0], pair[1], facecolor='red', alpha=0.2)\n",
    "\n",
    "# Plot the background color for low singals\n",
    "low = sample[['WeekNumber', 'Day', 'Hour', 'index']].loc[sample['Tariff'] == 'Low']\n",
    "if low.shape[0] != 0: # access if data exist\n",
    "    list_l = start_end_signal(low) # get list from series\n",
    "    for pair in list_l: # iterate over pairs and plot\n",
    "        ax.axvspan(pair[0], pair[1], facecolor='green', alpha=0.2)\n",
    "        \n",
    "plt.xticks(rotation = 45)\n",
    "plt.xlabel('Date')\n",
    "plt.ylabel('Demand (kw)')\n",
    "plt.savefig(fig_path+'Demand for different tarrifs.png')\n",
    "plt.show()"
   ]
  }
 ],
 "metadata": {
  "kernelspec": {
   "display_name": "Python 3",
   "language": "python",
   "name": "python3"
  },
  "language_info": {
   "codemirror_mode": {
    "name": "ipython",
    "version": 3
   },
   "file_extension": ".py",
   "mimetype": "text/x-python",
   "name": "python",
   "nbconvert_exporter": "python",
   "pygments_lexer": "ipython3",
   "version": "3.7.2"
  }
 },
 "nbformat": 4,
 "nbformat_minor": 2
}
