{
 "cells": [
  {
   "cell_type": "code",
   "execution_count": null,
   "metadata": {},
   "outputs": [],
   "source": [
    "import pandas as pd\n",
    "import numpy as np\n",
    "import time\n",
    "import datetime as dt\n",
    "import matplotlib.pyplot as plt\n",
    "import seaborn as sns\n",
    "import calendar"
   ]
  },
  {
   "cell_type": "code",
   "execution_count": null,
   "metadata": {},
   "outputs": [],
   "source": [
    "# Read dataset\n",
    "path = '../Dataset/Power Networks/Power-Networks-LCL-June2015(withAcornGps).csv_Pieces/'\n",
    "filename = 'noNA_consolidated_2013.csv'\n",
    "t = time.time()\n",
    "df = pd.read_csv(path+filename)\n",
    "elapsed = time.time() - t"
   ]
  },
  {
   "cell_type": "markdown",
   "metadata": {},
   "source": [
    "# Drop and rename columns"
   ]
  },
  {
   "cell_type": "code",
   "execution_count": null,
   "metadata": {},
   "outputs": [],
   "source": [
    "# Drop extra columns\n",
    "df.drop('Unnamed: 0', axis =1, inplace = True)"
   ]
  },
  {
   "cell_type": "code",
   "execution_count": null,
   "metadata": {},
   "outputs": [],
   "source": [
    "# rename columns (ease of use)\n",
    "df['kwh'] = df['KWH/hh (per half hour) ']\n",
    "df['Minute'] = df['minute']"
   ]
  },
  {
   "cell_type": "code",
   "execution_count": null,
   "metadata": {},
   "outputs": [],
   "source": [
    "# drop remainimg columns\n",
    "df.drop('minute', axis =1, inplace = True)\n",
    "df.drop('KWH/hh (per half hour) ', axis =1, inplace = True)"
   ]
  },
  {
   "cell_type": "markdown",
   "metadata": {},
   "source": [
    "# Functions for extracting date specific information"
   ]
  },
  {
   "cell_type": "code",
   "execution_count": null,
   "metadata": {},
   "outputs": [],
   "source": [
    "# get name of the month\n",
    "def name_month(val):\n",
    "    if (val == 1):\n",
    "        month = 'January'\n",
    "    elif (val == 2):\n",
    "        month = 'February'\n",
    "    elif (val == 3):\n",
    "        month = 'March'\n",
    "    elif (val == 4):\n",
    "        month = 'April'\n",
    "    elif (val == 5):\n",
    "        month = 'May'\n",
    "    elif (val == 6):\n",
    "        month = 'June'\n",
    "    elif (val == 7):\n",
    "        month = 'July'\n",
    "    elif (val == 8):\n",
    "        month = 'August'\n",
    "    elif (val == 9):\n",
    "        month = 'September'\n",
    "    elif (val == 10):\n",
    "        month = 'October'\n",
    "    elif (val == 11):\n",
    "        month = 'November'\n",
    "    elif (val == 12):\n",
    "        month = 'December'\n",
    "    else:\n",
    "        month = 'Not Existing Month'\n",
    "    return month"
   ]
  },
  {
   "cell_type": "code",
   "execution_count": null,
   "metadata": {},
   "outputs": [],
   "source": [
    "# get name of season\n",
    "def extract_season(val):\n",
    "    if (val ==12) or (val<=2):\n",
    "        seas = 'Winter'\n",
    "    elif (3 <=val<=5):\n",
    "        seas = 'Spring'\n",
    "    elif (6 <=val<=8):\n",
    "        seas = 'Summer'\n",
    "    elif (9 <=val<=11):\n",
    "        seas = 'Fall'\n",
    "    else:\n",
    "        seas = 'Not Existing Season'\n",
    "    return seas"
   ]
  },
  {
   "cell_type": "code",
   "execution_count": null,
   "metadata": {},
   "outputs": [],
   "source": [
    "# get number of day\n",
    "def name_day(year, month, day):\n",
    "    ans = calendar.weekday(year,month,day)\n",
    "    return calendar.day_name[ans]"
   ]
  },
  {
   "cell_type": "code",
   "execution_count": null,
   "metadata": {},
   "outputs": [],
   "source": [
    "# get number of week\n",
    "def week_number(year, month, day):\n",
    "    return dt.date(year, month, day).isocalendar()[1]"
   ]
  },
  {
   "cell_type": "markdown",
   "metadata": {},
   "source": [
    "# Applying the functions"
   ]
  },
  {
   "cell_type": "code",
   "execution_count": null,
   "metadata": {},
   "outputs": [],
   "source": [
    "df['DateTime'] = pd.to_datetime(df['DateTime'])"
   ]
  },
  {
   "cell_type": "code",
   "execution_count": null,
   "metadata": {},
   "outputs": [],
   "source": [
    "# Extract month, hour, day\n",
    "df['Month'] = df['DateTime'].dt.month\n",
    "df['Hour'] = df['DateTime'].dt.hour\n",
    "df['Day'] = df['DateTime'].dt.day\n",
    "df['DayName'] = df.apply(lambda row: name_day(2013, row['Month'], row['Day']), axis = 1)\n",
    "df['Weekday'] = df.apply(lambda row: calendar.weekday(2013, row['Month'], row['Day']), axis = 1)\n",
    "df['MonthName'] = df['Month'].apply(name_month)\n",
    "df['Season'] = df['Month'].apply(extract_season)\n",
    "df['WeekNumber'] = df.apply(lambda row: week_number(2013, row['Month'], row['Day']), axis =1)"
   ]
  },
  {
   "cell_type": "code",
   "execution_count": null,
   "metadata": {},
   "outputs": [],
   "source": [
    "# get the kw from kwh/hh\n",
    "df['kw'] = df['kwh']*2"
   ]
  },
  {
   "cell_type": "code",
   "execution_count": null,
   "metadata": {},
   "outputs": [],
   "source": [
    "# df.to_csv(path+'2013_agg_dates.csv')"
   ]
  }
 ],
 "metadata": {
  "kernelspec": {
   "display_name": "Python 3",
   "language": "python",
   "name": "python3"
  },
  "language_info": {
   "codemirror_mode": {
    "name": "ipython",
    "version": 3
   },
   "file_extension": ".py",
   "mimetype": "text/x-python",
   "name": "python",
   "nbconvert_exporter": "python",
   "pygments_lexer": "ipython3",
   "version": "3.7.2"
  }
 },
 "nbformat": 4,
 "nbformat_minor": 2
}
